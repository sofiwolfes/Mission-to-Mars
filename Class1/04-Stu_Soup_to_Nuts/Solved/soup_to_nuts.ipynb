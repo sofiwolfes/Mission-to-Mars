{
 "cells": [
  {
   "cell_type": "code",
   "execution_count": 1,
   "metadata": {},
   "outputs": [],
   "source": [
    "from bs4 import BeautifulSoup"
   ]
  },
  {
   "cell_type": "code",
   "execution_count": 2,
   "metadata": {},
   "outputs": [],
   "source": [
    "html = \"\"\"\n",
    "<!DOCTYPE html>\n",
    "<html lang=\"en\">\n",
    "\n",
    "<head>\n",
    "  <meta charset=\"UTF-8\">\n",
    "  <title>Some Common HTML Tags</title>\n",
    "</head>\n",
    "\n",
    "<body>\n",
    "  <!-- any weird symbols here such as &gt; or &lt; are HTML escape characters. http://www.theukwebdesigncompany.com/articles/entity-escape-characters.php -->\n",
    "  <!-- these allow us to do things like write escaped HTML, or HTML that just gets rendered as text in the document -->\n",
    "  <h1>Some Common HTML Tags</h1>\n",
    "  <section>\n",
    "    <hr>\n",
    "    <h2>Paragraph Tags</h2>\n",
    "    <p>\n",
    "      <code>&lt;p&gt;</code> tags are for containing blocks of text. A paragraph tag is a block level element, so by\n",
    "      default, each paragraph tag will take up it's own line.\n",
    "      <a target=\"_blank\" href=\"https://developer.mozilla.org/en-US/docs/Web/HTML/Element/p\">Learn More!</a>\n",
    "    </p>\n",
    "  </section>\n",
    "\n",
    "  <section>\n",
    "    <hr>\n",
    "    <h2>Heading Tags</h2>\n",
    "    <p>\n",
    "      <code>&lt;h1&gt; - &lt;h6&gt;</code> tags are for containing larger sizes of heading text for things such as\n",
    "      titles or subtitles. Not to be confused with header or head tags.\n",
    "      <a target=\"_blank\" href=\"https://developer.mozilla.org/en-US/docs/Web/HTML/Element/Heading_Elements\">Learn\n",
    "        More!</a>\n",
    "    </p>\n",
    "  </section>\n",
    "\n",
    "  <section>\n",
    "    <hr>\n",
    "    <h2>Horizontal Rule Tags</h2>\n",
    "    <p>\n",
    "      <code>&lt;hr /&gt;</code> tags are for seperating content with a horizontal rule. This element is self closing, so\n",
    "      so you'd just write <code>&lt;hr&gt;</code> instead of <code>&lt;hr&gt;&lt;/hr&gt;</code> to use it in your\n",
    "      document.\n",
    "      <a target=\"_blank\" href=\"https://developer.mozilla.org/en-US/docs/Web/HTML/Element/hr\">Learn More!</a>\n",
    "    </p>\n",
    "  </section>\n",
    "\n",
    "  <section>\n",
    "    <hr>\n",
    "    <h2>Anchor tags</h2>\n",
    "    <p>\n",
    "      <code>&lt;a&gt;</code> tags are for creating hyperlinks in webpages. At a minimum, we need to provide an\n",
    "      <code>\"href\"</code> attribute to our anchor tag. We pass the url we want our hyperlink to direct to into this\n",
    "      <code>\"href\"</code> attribute. This serves a similar purpose as the <code>\"src\"</code> attribute does for images.\n",
    "    </p>\n",
    "    <p>\n",
    "      For example, this HTML:\n",
    "      <code>&lt;a href=&quot;https:&#x2F;&#x2F;github.com&#x2F;&quot;&gt;Link to Github&lt;&#x2F;a&gt;</code>\n",
    "    </p>\n",
    "    <p>\n",
    "      Produces this hyperlink:\n",
    "      <a href=\"https://github.com/\">Link to Github</a>\n",
    "    </p>\n",
    "    <p>\n",
    "      <a target=\"_blank\" href=\"https://developer.mozilla.org/en-US/docs/Web/HTML/Element/hr\">Learn More!</a>\n",
    "    </p>\n",
    "  </section>\n",
    "\n",
    "  <section>\n",
    "    <hr>\n",
    "    <h2>Unordered and Ordered Lists</h2>\n",
    "    <p>\n",
    "      <code>&lt;ul&gt;</code> and <code>&lt;li&gt;</code> tags are for rendering an unordered list in your HTML\n",
    "      document.\n",
    "    </p>\n",
    "    <p>For example, this HTML:</p>\n",
    "    <code>\n",
    "      &lt;ul&gt;<br>\n",
    "      &nbsp;&nbsp;&lt;li&gt;Monday&lt;/li&gt;<br>\n",
    "      &nbsp;&nbsp;&lt;li&gt;Tuesday&lt;/li&gt;<br>\n",
    "      &nbsp;&nbsp;&lt;li&gt;Thursday&lt;/li&gt;<br>\n",
    "      &lt;/ul&gt;<br>\n",
    "    </code>\n",
    "    <p>\n",
    "      Produces this list in our document:\n",
    "    </p>\n",
    "    <ul>\n",
    "      <li>Monday</li>\n",
    "      <li>Tuesday</li>\n",
    "      <li>Thursday</li>\n",
    "    </ul>\n",
    "    <p>We can produce an ordered list simply by swapping out the <code>ul</code> element for an <code>ol</code> element:\n",
    "    </p>\n",
    "    <code>\n",
    "      &lt;ol&gt;<br>\n",
    "      &nbsp;&nbsp;&lt;li&gt;Monday&lt;/li&gt;<br>\n",
    "      &nbsp;&nbsp;&lt;li&gt;Tuesday&lt;/li&gt;<br>\n",
    "      &nbsp;&nbsp;&lt;li&gt;Thursday&lt;/li&gt;<br>\n",
    "      &lt;/ol&gt;<br>\n",
    "    </code>\n",
    "    <ol>\n",
    "      <li>Monday</li>\n",
    "      <li>Tuesday</li>\n",
    "      <li>Thursday</li>\n",
    "    </ol>\n",
    "    <p>\n",
    "      <a target=\"_blank\" href=\"https://developer.mozilla.org/en-US/docs/Web/HTML/Element/ul\">Learn More! (Unordered\n",
    "        Lists)</a>\n",
    "      <br>\n",
    "      <br>\n",
    "      <a target=\"_blank\" href=\"https://developer.mozilla.org/en-US/docs/Web/HTML/Element/ul\">Learn More! (Ordered\n",
    "        Lists)</a>\n",
    "    </p>\n",
    "  </section>\n",
    "\n",
    "  <section>\n",
    "    <hr>\n",
    "    <h2>Tables</h2>\n",
    "    <p>\n",
    "      <code>&lt;table&gt;</code> tags are for representing tabular data inside of a table. On their own,\n",
    "      <code>table</code> tags don't do much. So we nest <code>&lt;tr&gt;</code>, <code>&lt;td&gt;</code>\n",
    "      <code>&lt;th&gt;</code> tags\n",
    "      inside.\n",
    "    </p>\n",
    "    <p>For example, this HTML:</p>\n",
    "    <section>\n",
    "      <code>\n",
    "      &lt;table border=&quot;1&quot;&gt;\n",
    "        <br>&nbsp;&nbsp;&lt;tr&gt;\n",
    "        <br>&nbsp;&nbsp;&nbsp;&nbsp;&lt;th&gt;Company&lt;&#x2F;th&gt;\n",
    "        <br>&nbsp;&nbsp;&nbsp;&nbsp;&lt;th&gt;Contact&lt;&#x2F;th&gt;\n",
    "        <br>&nbsp;&nbsp;&nbsp;&nbsp;&lt;th&gt;Email&lt;&#x2F;th&gt;\n",
    "        <br>&nbsp;&nbsp;&lt;&#x2F;tr&gt;\n",
    "        <br>&nbsp;&nbsp;&lt;tr&gt;\n",
    "        <br>&nbsp;&nbsp;&nbsp;&nbsp;&lt;td&gt;Google&lt;&#x2F;td&gt;\n",
    "        <br>&nbsp;&nbsp;&nbsp;&nbsp;&lt;td&gt;Sergey Brin&lt;&#x2F;td&gt;\n",
    "        <br>&nbsp;&nbsp;&nbsp;&nbsp;&lt;td&gt;sergey@google.com&lt;&#x2F;td&gt;\n",
    "        <br>&nbsp;&nbsp;&lt;&#x2F;tr&gt;\n",
    "        <br>&nbsp;&nbsp;&lt;tr&gt;\n",
    "        <br>&nbsp;&nbsp;&nbsp;&nbsp;&lt;td&gt;Facebook&lt;&#x2F;td&gt;\n",
    "        <br>&nbsp;&nbsp;&nbsp;&nbsp;&lt;td&gt;Mark Zuckerburg&lt;&#x2F;td&gt;\n",
    "        <br>&nbsp;&nbsp;&nbsp;&nbsp;&lt;td&gt;mark@facebook.com&lt;&#x2F;td&gt;\n",
    "        <br>&nbsp;&nbsp;&lt;&#x2F;tr&gt;\n",
    "        <br>&nbsp;&nbsp;&nbsp;&lt;tr&gt;\n",
    "        <br>&nbsp;&nbsp;&nbsp;&nbsp;&lt;td&gt;Space X&lt;&#x2F;td&gt;\n",
    "        <br>&nbsp;&nbsp;&nbsp;&nbsp;&lt;td&gt;Elon Musk&lt;&#x2F;td&gt;\n",
    "        <br>&nbsp;&nbsp;&nbsp;&nbsp;&lt;td&gt;elon@spacex.com&lt;&#x2F;td&gt;\n",
    "        <br>&nbsp;&nbsp;&lt;&#x2F;tr&gt;\n",
    "        <br>&nbsp;&nbsp;&lt;tr&gt;\n",
    "        <br>&nbsp;&nbsp;&nbsp;&nbsp;&lt;td&gt;Amazon&lt;&#x2F;td&gt;\n",
    "        <br>&nbsp;&nbsp;&nbsp;&nbsp;&lt;td&gt;Jeff Bezos&lt;&#x2F;td&gt;\n",
    "        <br>&nbsp;&nbsp;&nbsp;&nbsp;&lt;td&gt;jeff@amazon.com&lt;&#x2F;td&gt;\n",
    "        <br>&nbsp;&nbsp;&lt;&#x2F;tr&gt;\n",
    "        <br>&lt;&#x2F;table&gt;\n",
    "      </code>\n",
    "    </section>\n",
    "    <p>Produces this table:</p>\n",
    "    <table border=\"1\">\n",
    "      <tr>\n",
    "        <th>Company</th>\n",
    "        <th>Contact</th>\n",
    "        <th>Email</th>\n",
    "      </tr>\n",
    "      <tr>\n",
    "        <td>Google</td>\n",
    "        <td>Sergey Brin</td>\n",
    "        <td>sergey@google.com</td>\n",
    "      </tr>\n",
    "      <tr>\n",
    "        <td>Facebook</td>\n",
    "        <td>Mark Zuckerburg</td>\n",
    "        <td>mark@facebook.com</td>\n",
    "      </tr>\n",
    "      <tr>\n",
    "        <td>Space X</td>\n",
    "        <td>Elon Musk</td>\n",
    "        <td>elon@spacex.com</td>\n",
    "      </tr>\n",
    "      <tr>\n",
    "        <td>Amazon</td>\n",
    "        <td>Jeff Bezos</td>\n",
    "        <td>jeff@amazon.com</td>\n",
    "      </tr>\n",
    "    </table>\n",
    "    <p>\n",
    "      <a target=\"_blank\" href=\"https://developer.mozilla.org/en-US/docs/Web/HTML/Element/table\">Learn More!</a>\n",
    "    </p>\n",
    "  </section>\n",
    "\n",
    "  <section>\n",
    "    <hr>\n",
    "    <h2>Division Tags</h2>\n",
    "    <p>\n",
    "      <code>&lt;div&gt;</code> tags are meant to be generic container elements with no semantic meaning other than those\n",
    "      given to them by their classes and id attributes. You can group elements together by throwing them inside of the\n",
    "      same div tag.\n",
    "    </p>\n",
    "    <p>There are other more semantic HTML tags such as <a\n",
    "        href=\"https://developer.mozilla.org/en-US/docs/Web/HTML/Element/article\">articles</a> or\n",
    "      <a href=\"https://developer.mozilla.org/en-US/docs/Web/HTML/Element/nav\">navs</a> or <a\n",
    "        href=\"https://developer.mozilla.org/en-US/docs/Web/HTML/Element/footer\">footers</a> which behave the exact same\n",
    "      way as div elements do, but are designed to be\n",
    "      used for specifc purposes. These should be used whenever possible for a few reasons, but one of the most practical\n",
    "      is that code is easier to understand and debug when things are named what they actually are.\n",
    "      <a target=\"_blank\" href=\"https://developer.mozilla.org/en-US/docs/Web/HTML/Element/div\">Learn More!</a>\n",
    "    </p>\n",
    "  </section>\n",
    "\n",
    "  <section>\n",
    "    <hr>\n",
    "    <h2>Strong Tags</h2>\n",
    "    <p>\n",
    "      <code>&lt;strong&gt;</code> tags give any nested text a bold font weight. If you'd like to make text bold, put the\n",
    "      text inside of <code>&lt;strong&gt;<strong>this text will be bold</strong>&lt;/strong&gt;</code>. In addition to\n",
    "      browsers rendering text inside strong elements\n",
    "      as bold by default, strong has another semantic meaning. It's meant for text which is supposed to be serious or\n",
    "      urgent.\n",
    "      <a target=\"_blank\" href=\"https://developer.mozilla.org/en-US/docs/Web/HTML/Element/strong\">Learn More!</a>\n",
    "    </p>\n",
    "  </section>\n",
    "\n",
    "</body>\n",
    "\n",
    "</html>\n",
    "\"\"\""
   ]
  },
  {
   "cell_type": "code",
   "execution_count": 3,
   "metadata": {},
   "outputs": [],
   "source": [
    "soup = BeautifulSoup(html, 'html.parser')"
   ]
  },
  {
   "cell_type": "code",
   "execution_count": 4,
   "metadata": {},
   "outputs": [
    {
     "data": {
      "text/plain": [
       "<head>\n",
       "<meta charset=\"utf-8\"/>\n",
       "<title>Some Common HTML Tags</title>\n",
       "</head>"
      ]
     },
     "execution_count": 4,
     "metadata": {},
     "output_type": "execute_result"
    }
   ],
   "source": [
    "soup.head"
   ]
  },
  {
   "cell_type": "code",
   "execution_count": 5,
   "metadata": {},
   "outputs": [
    {
     "data": {
      "text/plain": [
       "<body>\n",
       "<!-- any weird symbols here such as &gt; or &lt; are HTML escape characters. http://www.theukwebdesigncompany.com/articles/entity-escape-characters.php -->\n",
       "<!-- these allow us to do things like write escaped HTML, or HTML that just gets rendered as text in the document -->\n",
       "<h1>Some Common HTML Tags</h1>\n",
       "<section>\n",
       "<hr/>\n",
       "<h2>Paragraph Tags</h2>\n",
       "<p>\n",
       "<code>&lt;p&gt;</code> tags are for containing blocks of text. A paragraph tag is a block level element, so by\n",
       "      default, each paragraph tag will take up it's own line.\n",
       "      <a href=\"https://developer.mozilla.org/en-US/docs/Web/HTML/Element/p\" target=\"_blank\">Learn More!</a>\n",
       "</p>\n",
       "</section>\n",
       "<section>\n",
       "<hr/>\n",
       "<h2>Heading Tags</h2>\n",
       "<p>\n",
       "<code>&lt;h1&gt; - &lt;h6&gt;</code> tags are for containing larger sizes of heading text for things such as\n",
       "      titles or subtitles. Not to be confused with header or head tags.\n",
       "      <a href=\"https://developer.mozilla.org/en-US/docs/Web/HTML/Element/Heading_Elements\" target=\"_blank\">Learn\n",
       "        More!</a>\n",
       "</p>\n",
       "</section>\n",
       "<section>\n",
       "<hr/>\n",
       "<h2>Horizontal Rule Tags</h2>\n",
       "<p>\n",
       "<code>&lt;hr /&gt;</code> tags are for seperating content with a horizontal rule. This element is self closing, so\n",
       "      so you'd just write <code>&lt;hr&gt;</code> instead of <code>&lt;hr&gt;&lt;/hr&gt;</code> to use it in your\n",
       "      document.\n",
       "      <a href=\"https://developer.mozilla.org/en-US/docs/Web/HTML/Element/hr\" target=\"_blank\">Learn More!</a>\n",
       "</p>\n",
       "</section>\n",
       "<section>\n",
       "<hr/>\n",
       "<h2>Anchor tags</h2>\n",
       "<p>\n",
       "<code>&lt;a&gt;</code> tags are for creating hyperlinks in webpages. At a minimum, we need to provide an\n",
       "      <code>\"href\"</code> attribute to our anchor tag. We pass the url we want our hyperlink to direct to into this\n",
       "      <code>\"href\"</code> attribute. This serves a similar purpose as the <code>\"src\"</code> attribute does for images.\n",
       "    </p>\n",
       "<p>\n",
       "      For example, this HTML:\n",
       "      <code>&lt;a href=\"https://github.com/\"&gt;Link to Github&lt;/a&gt;</code>\n",
       "</p>\n",
       "<p>\n",
       "      Produces this hyperlink:\n",
       "      <a href=\"https://github.com/\">Link to Github</a>\n",
       "</p>\n",
       "<p>\n",
       "<a href=\"https://developer.mozilla.org/en-US/docs/Web/HTML/Element/hr\" target=\"_blank\">Learn More!</a>\n",
       "</p>\n",
       "</section>\n",
       "<section>\n",
       "<hr/>\n",
       "<h2>Unordered and Ordered Lists</h2>\n",
       "<p>\n",
       "<code>&lt;ul&gt;</code> and <code>&lt;li&gt;</code> tags are for rendering an unordered list in your HTML\n",
       "      document.\n",
       "    </p>\n",
       "<p>For example, this HTML:</p>\n",
       "<code>\n",
       "      &lt;ul&gt;<br/>\n",
       "        &lt;li&gt;Monday&lt;/li&gt;<br/>\n",
       "        &lt;li&gt;Tuesday&lt;/li&gt;<br/>\n",
       "        &lt;li&gt;Thursday&lt;/li&gt;<br/>\n",
       "      &lt;/ul&gt;<br/>\n",
       "</code>\n",
       "<p>\n",
       "      Produces this list in our document:\n",
       "    </p>\n",
       "<ul>\n",
       "<li>Monday</li>\n",
       "<li>Tuesday</li>\n",
       "<li>Thursday</li>\n",
       "</ul>\n",
       "<p>We can produce an ordered list simply by swapping out the <code>ul</code> element for an <code>ol</code> element:\n",
       "    </p>\n",
       "<code>\n",
       "      &lt;ol&gt;<br/>\n",
       "        &lt;li&gt;Monday&lt;/li&gt;<br/>\n",
       "        &lt;li&gt;Tuesday&lt;/li&gt;<br/>\n",
       "        &lt;li&gt;Thursday&lt;/li&gt;<br/>\n",
       "      &lt;/ol&gt;<br/>\n",
       "</code>\n",
       "<ol>\n",
       "<li>Monday</li>\n",
       "<li>Tuesday</li>\n",
       "<li>Thursday</li>\n",
       "</ol>\n",
       "<p>\n",
       "<a href=\"https://developer.mozilla.org/en-US/docs/Web/HTML/Element/ul\" target=\"_blank\">Learn More! (Unordered\n",
       "        Lists)</a>\n",
       "<br/>\n",
       "<br/>\n",
       "<a href=\"https://developer.mozilla.org/en-US/docs/Web/HTML/Element/ul\" target=\"_blank\">Learn More! (Ordered\n",
       "        Lists)</a>\n",
       "</p>\n",
       "</section>\n",
       "<section>\n",
       "<hr/>\n",
       "<h2>Tables</h2>\n",
       "<p>\n",
       "<code>&lt;table&gt;</code> tags are for representing tabular data inside of a table. On their own,\n",
       "      <code>table</code> tags don't do much. So we nest <code>&lt;tr&gt;</code>, <code>&lt;td&gt;</code>\n",
       "<code>&lt;th&gt;</code> tags\n",
       "      inside.\n",
       "    </p>\n",
       "<p>For example, this HTML:</p>\n",
       "<section>\n",
       "<code>\n",
       "      &lt;table border=\"1\"&gt;\n",
       "        <br/>  &lt;tr&gt;\n",
       "        <br/>    &lt;th&gt;Company&lt;/th&gt;\n",
       "        <br/>    &lt;th&gt;Contact&lt;/th&gt;\n",
       "        <br/>    &lt;th&gt;Email&lt;/th&gt;\n",
       "        <br/>  &lt;/tr&gt;\n",
       "        <br/>  &lt;tr&gt;\n",
       "        <br/>    &lt;td&gt;Google&lt;/td&gt;\n",
       "        <br/>    &lt;td&gt;Sergey Brin&lt;/td&gt;\n",
       "        <br/>    &lt;td&gt;sergey@google.com&lt;/td&gt;\n",
       "        <br/>  &lt;/tr&gt;\n",
       "        <br/>  &lt;tr&gt;\n",
       "        <br/>    &lt;td&gt;Facebook&lt;/td&gt;\n",
       "        <br/>    &lt;td&gt;Mark Zuckerburg&lt;/td&gt;\n",
       "        <br/>    &lt;td&gt;mark@facebook.com&lt;/td&gt;\n",
       "        <br/>  &lt;/tr&gt;\n",
       "        <br/>   &lt;tr&gt;\n",
       "        <br/>    &lt;td&gt;Space X&lt;/td&gt;\n",
       "        <br/>    &lt;td&gt;Elon Musk&lt;/td&gt;\n",
       "        <br/>    &lt;td&gt;elon@spacex.com&lt;/td&gt;\n",
       "        <br/>  &lt;/tr&gt;\n",
       "        <br/>  &lt;tr&gt;\n",
       "        <br/>    &lt;td&gt;Amazon&lt;/td&gt;\n",
       "        <br/>    &lt;td&gt;Jeff Bezos&lt;/td&gt;\n",
       "        <br/>    &lt;td&gt;jeff@amazon.com&lt;/td&gt;\n",
       "        <br/>  &lt;/tr&gt;\n",
       "        <br/>&lt;/table&gt;\n",
       "      </code>\n",
       "</section>\n",
       "<p>Produces this table:</p>\n",
       "<table border=\"1\">\n",
       "<tr>\n",
       "<th>Company</th>\n",
       "<th>Contact</th>\n",
       "<th>Email</th>\n",
       "</tr>\n",
       "<tr>\n",
       "<td>Google</td>\n",
       "<td>Sergey Brin</td>\n",
       "<td>sergey@google.com</td>\n",
       "</tr>\n",
       "<tr>\n",
       "<td>Facebook</td>\n",
       "<td>Mark Zuckerburg</td>\n",
       "<td>mark@facebook.com</td>\n",
       "</tr>\n",
       "<tr>\n",
       "<td>Space X</td>\n",
       "<td>Elon Musk</td>\n",
       "<td>elon@spacex.com</td>\n",
       "</tr>\n",
       "<tr>\n",
       "<td>Amazon</td>\n",
       "<td>Jeff Bezos</td>\n",
       "<td>jeff@amazon.com</td>\n",
       "</tr>\n",
       "</table>\n",
       "<p>\n",
       "<a href=\"https://developer.mozilla.org/en-US/docs/Web/HTML/Element/table\" target=\"_blank\">Learn More!</a>\n",
       "</p>\n",
       "</section>\n",
       "<section>\n",
       "<hr/>\n",
       "<h2>Division Tags</h2>\n",
       "<p>\n",
       "<code>&lt;div&gt;</code> tags are meant to be generic container elements with no semantic meaning other than those\n",
       "      given to them by their classes and id attributes. You can group elements together by throwing them inside of the\n",
       "      same div tag.\n",
       "    </p>\n",
       "<p>There are other more semantic HTML tags such as <a href=\"https://developer.mozilla.org/en-US/docs/Web/HTML/Element/article\">articles</a> or\n",
       "      <a href=\"https://developer.mozilla.org/en-US/docs/Web/HTML/Element/nav\">navs</a> or <a href=\"https://developer.mozilla.org/en-US/docs/Web/HTML/Element/footer\">footers</a> which behave the exact same\n",
       "      way as div elements do, but are designed to be\n",
       "      used for specifc purposes. These should be used whenever possible for a few reasons, but one of the most practical\n",
       "      is that code is easier to understand and debug when things are named what they actually are.\n",
       "      <a href=\"https://developer.mozilla.org/en-US/docs/Web/HTML/Element/div\" target=\"_blank\">Learn More!</a>\n",
       "</p>\n",
       "</section>\n",
       "<section>\n",
       "<hr/>\n",
       "<h2>Strong Tags</h2>\n",
       "<p>\n",
       "<code>&lt;strong&gt;</code> tags give any nested text a bold font weight. If you'd like to make text bold, put the\n",
       "      text inside of <code>&lt;strong&gt;<strong>this text will be bold</strong>&lt;/strong&gt;</code>. In addition to\n",
       "      browsers rendering text inside strong elements\n",
       "      as bold by default, strong has another semantic meaning. It's meant for text which is supposed to be serious or\n",
       "      urgent.\n",
       "      <a href=\"https://developer.mozilla.org/en-US/docs/Web/HTML/Element/strong\" target=\"_blank\">Learn More!</a>\n",
       "</p>\n",
       "</section>\n",
       "</body>"
      ]
     },
     "execution_count": 5,
     "metadata": {},
     "output_type": "execute_result"
    }
   ],
   "source": [
    "soup.body"
   ]
  },
  {
   "cell_type": "code",
   "execution_count": 6,
   "metadata": {},
   "outputs": [
    {
     "data": {
      "text/plain": [
       "<h1>Some Common HTML Tags</h1>"
      ]
     },
     "execution_count": 6,
     "metadata": {},
     "output_type": "execute_result"
    }
   ],
   "source": [
    "h1 = soup.find('h1')\n",
    "h1"
   ]
  },
  {
   "cell_type": "code",
   "execution_count": 7,
   "metadata": {},
   "outputs": [
    {
     "data": {
      "text/plain": [
       "'Some Common HTML Tags'"
      ]
     },
     "execution_count": 7,
     "metadata": {},
     "output_type": "execute_result"
    }
   ],
   "source": [
    "h1.text"
   ]
  },
  {
   "cell_type": "code",
   "execution_count": 8,
   "metadata": {},
   "outputs": [
    {
     "data": {
      "text/plain": [
       "'Paragraph Tags'"
      ]
     },
     "execution_count": 8,
     "metadata": {},
     "output_type": "execute_result"
    }
   ],
   "source": [
    "h2 = soup.find('h2')\n",
    "h2.text"
   ]
  },
  {
   "cell_type": "code",
   "execution_count": 9,
   "metadata": {},
   "outputs": [
    {
     "data": {
      "text/plain": [
       "<a href=\"https://developer.mozilla.org/en-US/docs/Web/HTML/Element/p\" target=\"_blank\">Learn More!</a>"
      ]
     },
     "execution_count": 9,
     "metadata": {},
     "output_type": "execute_result"
    }
   ],
   "source": [
    "link = soup.find('a')\n",
    "link"
   ]
  },
  {
   "cell_type": "code",
   "execution_count": 10,
   "metadata": {},
   "outputs": [
    {
     "data": {
      "text/plain": [
       "'https://developer.mozilla.org/en-US/docs/Web/HTML/Element/p'"
      ]
     },
     "execution_count": 10,
     "metadata": {},
     "output_type": "execute_result"
    }
   ],
   "source": [
    "link['href']"
   ]
  },
  {
   "cell_type": "code",
   "execution_count": 11,
   "metadata": {},
   "outputs": [
    {
     "data": {
      "text/plain": [
       "<ul>\n",
       "<li>Monday</li>\n",
       "<li>Tuesday</li>\n",
       "<li>Thursday</li>\n",
       "</ul>"
      ]
     },
     "execution_count": 11,
     "metadata": {},
     "output_type": "execute_result"
    }
   ],
   "source": [
    "unordered_list = soup.find('ul')\n",
    "unordered_list"
   ]
  },
  {
   "cell_type": "code",
   "execution_count": 12,
   "metadata": {},
   "outputs": [
    {
     "data": {
      "text/plain": [
       "<li>Monday</li>"
      ]
     },
     "execution_count": 12,
     "metadata": {},
     "output_type": "execute_result"
    }
   ],
   "source": [
    "unordered_list.li"
   ]
  },
  {
   "cell_type": "code",
   "execution_count": 13,
   "metadata": {},
   "outputs": [
    {
     "data": {
      "text/plain": [
       "'Monday'"
      ]
     },
     "execution_count": 13,
     "metadata": {},
     "output_type": "execute_result"
    }
   ],
   "source": [
    "unordered_list.li.text"
   ]
  },
  {
   "cell_type": "code",
   "execution_count": null,
   "metadata": {},
   "outputs": [],
   "source": []
  }
 ],
 "metadata": {
  "kernelspec": {
   "display_name": "PythonData",
   "language": "python",
   "name": "pythondata"
  },
  "language_info": {
   "codemirror_mode": {
    "name": "ipython",
    "version": 3
   },
   "file_extension": ".py",
   "mimetype": "text/x-python",
   "name": "python",
   "nbconvert_exporter": "python",
   "pygments_lexer": "ipython3",
   "version": "3.8.10"
  }
 },
 "nbformat": 4,
 "nbformat_minor": 4
}
