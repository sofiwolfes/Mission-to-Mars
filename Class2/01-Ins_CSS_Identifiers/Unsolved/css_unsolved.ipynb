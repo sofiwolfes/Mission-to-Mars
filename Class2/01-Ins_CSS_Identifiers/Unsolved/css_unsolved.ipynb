{
 "cells": [
  {
   "cell_type": "code",
   "execution_count": 1,
   "metadata": {},
   "outputs": [],
   "source": [
    "from bs4 import BeautifulSoup"
   ]
  },
  {
   "cell_type": "code",
   "execution_count": 20,
   "metadata": {},
   "outputs": [],
   "source": [
    "html = \"\"\"\n",
    "<!DOCTYPE html>\n",
    "<html lang=\"en\">\n",
    "\n",
    "<head>\n",
    "    <meta charset=\"UTF-8\">\n",
    "    <meta http-equiv=\"X-UA-Compatible\" content=\"IE=edge\">\n",
    "    <meta name=\"viewport\" content=\"width=device-width, initial-scale=1.0\">\n",
    "    <title>My First CSS Adventure</title>\n",
    "</head>\n",
    "\n",
    "<style>\n",
    "    #cities {\n",
    "        color: purple;\n",
    "    }\n",
    "\n",
    "    .meat {\n",
    "        color: brown;\n",
    "    }\n",
    "\n",
    "    .vegetarian {\n",
    "        color: green;\n",
    "    }\n",
    "\n",
    "    #favorite {\n",
    "        color: orange;\n",
    "    }\n",
    "</style>\n",
    "\n",
    "<body>\n",
    "\n",
    "    <ol id=\"cities\">\n",
    "        <li>New York</li>\n",
    "        <li>Paris</li>\n",
    "        <li>Seoul</li>\n",
    "        <li>Prague</li>\n",
    "    </ol>\n",
    "\n",
    "    <ol>\n",
    "        <li class=\"meat\">Taco</li>\n",
    "        <li class=\"meat\">Burger</li>\n",
    "        <li class=\"vegetarian\">Cheese pizza</li>\n",
    "        <li class=\"vegetarian\">Mac and cheese</li>\n",
    "    </ol>\n",
    "\n",
    "    <ol>\n",
    "        <li id=\"favorite\">Star Wars</li>\n",
    "        <li>Lion King</li>\n",
    "        <li>Godfather</li>\n",
    "        <li>Lord of the Rings</li>\n",
    "    </ol>\n",
    "</body>\n",
    "\n",
    "</html>\n",
    "\"\"\""
   ]
  },
  {
   "cell_type": "code",
   "execution_count": 21,
   "metadata": {},
   "outputs": [],
   "source": [
    "soup = BeautifulSoup(html, 'html.parser')"
   ]
  },
  {
   "cell_type": "code",
   "execution_count": 22,
   "metadata": {},
   "outputs": [],
   "source": [
    "# Match elements by ID\n",
    "cities = soup.find('ol', id='cities')"
   ]
  },
  {
   "cell_type": "code",
   "execution_count": 23,
   "metadata": {},
   "outputs": [
    {
     "data": {
      "text/plain": [
       "<ol id=\"cities\">\n",
       "<li>New York</li>\n",
       "<li>Paris</li>\n",
       "<li>Seoul</li>\n",
       "<li>Prague</li>\n",
       "</ol>"
      ]
     },
     "execution_count": 23,
     "metadata": {},
     "output_type": "execute_result"
    }
   ],
   "source": [
    "cities"
   ]
  },
  {
   "cell_type": "code",
   "execution_count": 24,
   "metadata": {},
   "outputs": [],
   "source": [
    "# TODO: Find all matches\n",
    "city_list_items = cities.find_all('li')"
   ]
  },
  {
   "cell_type": "code",
   "execution_count": 25,
   "metadata": {},
   "outputs": [
    {
     "name": "stdout",
     "output_type": "stream",
     "text": [
      "<li>New York</li>\n",
      "<li>Paris</li>\n",
      "<li>Seoul</li>\n",
      "<li>Prague</li>\n"
     ]
    }
   ],
   "source": [
    "for city in city_list_items:\n",
    "    print(city)"
   ]
  },
  {
   "cell_type": "code",
   "execution_count": 26,
   "metadata": {},
   "outputs": [
    {
     "name": "stdout",
     "output_type": "stream",
     "text": [
      "New York\n",
      "Paris\n",
      "Seoul\n",
      "Prague\n"
     ]
    }
   ],
   "source": [
    "for city in city_list_items:\n",
    "    print(city.text)"
   ]
  },
  {
   "cell_type": "code",
   "execution_count": 27,
   "metadata": {},
   "outputs": [
    {
     "data": {
      "text/plain": [
       "['New York', 'Paris', 'Seoul', 'Prague']"
      ]
     },
     "execution_count": 27,
     "metadata": {},
     "output_type": "execute_result"
    }
   ],
   "source": [
    "# TODO: Same as above, as a list comprehension\n",
    "[city.text for city in city_list_items]"
   ]
  },
  {
   "cell_type": "code",
   "execution_count": 28,
   "metadata": {},
   "outputs": [],
   "source": [
    "# TODO: All list items on the page\n",
    "all_items = soup.find_all('li')"
   ]
  },
  {
   "cell_type": "code",
   "execution_count": 29,
   "metadata": {},
   "outputs": [
    {
     "data": {
      "text/plain": [
       "[<li>New York</li>,\n",
       " <li>Paris</li>,\n",
       " <li>Seoul</li>,\n",
       " <li>Prague</li>,\n",
       " <li class=\"meat\">Taco</li>,\n",
       " <li class=\"meat\">Burger</li>,\n",
       " <li class=\"vegetarian\">Cheese pizza</li>,\n",
       " <li class=\"vegetarian\">Mac and cheese</li>,\n",
       " <li id=\"favorite\">Star Wars</li>,\n",
       " <li>Lion King</li>,\n",
       " <li>Godfather</li>,\n",
       " <li>Lord of the Rings</li>]"
      ]
     },
     "execution_count": 29,
     "metadata": {},
     "output_type": "execute_result"
    }
   ],
   "source": [
    "[item for item in all_items]"
   ]
  },
  {
   "cell_type": "code",
   "execution_count": 30,
   "metadata": {},
   "outputs": [
    {
     "data": {
      "text/plain": [
       "['New York',\n",
       " 'Paris',\n",
       " 'Seoul',\n",
       " 'Prague',\n",
       " 'Taco',\n",
       " 'Burger',\n",
       " 'Cheese pizza',\n",
       " 'Mac and cheese',\n",
       " 'Star Wars',\n",
       " 'Lion King',\n",
       " 'Godfather',\n",
       " 'Lord of the Rings']"
      ]
     },
     "execution_count": 30,
     "metadata": {},
     "output_type": "execute_result"
    }
   ],
   "source": [
    "[item.text for item in all_items]"
   ]
  },
  {
   "cell_type": "code",
   "execution_count": 33,
   "metadata": {},
   "outputs": [],
   "source": [
    "# Match items by class\n",
    "meat_items = soup.find_all('li', class_=\"meat\")"
   ]
  },
  {
   "cell_type": "code",
   "execution_count": 39,
   "metadata": {},
   "outputs": [
    {
     "data": {
      "text/plain": [
       "[<li class=\"meat\">Taco</li>, <li class=\"meat\">Burger</li>]"
      ]
     },
     "execution_count": 39,
     "metadata": {},
     "output_type": "execute_result"
    }
   ],
   "source": [
    "meat_items"
   ]
  },
  {
   "cell_type": "code",
   "execution_count": 40,
   "metadata": {},
   "outputs": [
    {
     "data": {
      "text/plain": [
       "['Taco', 'Burger']"
      ]
     },
     "execution_count": 40,
     "metadata": {},
     "output_type": "execute_result"
    }
   ],
   "source": [
    "[meat.text for meat in meat_items]"
   ]
  },
  {
   "cell_type": "code",
   "execution_count": 41,
   "metadata": {},
   "outputs": [],
   "source": [
    "vegetarian_items = soup.find_all('li', class_=\"vegetarian\")"
   ]
  },
  {
   "cell_type": "code",
   "execution_count": 42,
   "metadata": {},
   "outputs": [
    {
     "data": {
      "text/plain": [
       "[<li class=\"vegetarian\">Cheese pizza</li>,\n",
       " <li class=\"vegetarian\">Mac and cheese</li>]"
      ]
     },
     "execution_count": 42,
     "metadata": {},
     "output_type": "execute_result"
    }
   ],
   "source": [
    "vegetarian_items"
   ]
  },
  {
   "cell_type": "code",
   "execution_count": 44,
   "metadata": {},
   "outputs": [
    {
     "data": {
      "text/plain": [
       "['Cheese pizza', 'Mac and cheese']"
      ]
     },
     "execution_count": 44,
     "metadata": {},
     "output_type": "execute_result"
    }
   ],
   "source": [
    "[veggie.text for veggie in vegetarian_items]"
   ]
  },
  {
   "cell_type": "code",
   "execution_count": 45,
   "metadata": {},
   "outputs": [],
   "source": [
    "favorite_items = soup.find_all('li', id=\"favorite\")"
   ]
  },
  {
   "cell_type": "code",
   "execution_count": 46,
   "metadata": {},
   "outputs": [
    {
     "data": {
      "text/plain": [
       "[<li id=\"favorite\">Star Wars</li>]"
      ]
     },
     "execution_count": 46,
     "metadata": {},
     "output_type": "execute_result"
    }
   ],
   "source": [
    "favorite_items"
   ]
  },
  {
   "cell_type": "code",
   "execution_count": 47,
   "metadata": {},
   "outputs": [
    {
     "data": {
      "text/plain": [
       "['Star Wars']"
      ]
     },
     "execution_count": 47,
     "metadata": {},
     "output_type": "execute_result"
    }
   ],
   "source": [
    "[fav.text for fav in favorite_items]"
   ]
  },
  {
   "cell_type": "code",
   "execution_count": null,
   "metadata": {},
   "outputs": [],
   "source": []
  }
 ],
 "metadata": {
  "kernelspec": {
   "display_name": "PythonData",
   "language": "python",
   "name": "pythondata"
  },
  "language_info": {
   "codemirror_mode": {
    "name": "ipython",
    "version": 3
   },
   "file_extension": ".py",
   "mimetype": "text/x-python",
   "name": "python",
   "nbconvert_exporter": "python",
   "pygments_lexer": "ipython3",
   "version": "3.9.13"
  }
 },
 "nbformat": 4,
 "nbformat_minor": 4
}
